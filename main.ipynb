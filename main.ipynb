{
 "cells": [
  {
   "cell_type": "markdown",
   "metadata": {},
   "source": [
    "# About This Assignment"
   ]
  },
  {
   "cell_type": "markdown",
   "metadata": {},
   "source": [
    "Design and implement a complete **Natural Language Processing (NLP)** pipeline for\n",
    "advanced sequence-to-sequence tasks using the Sherlock Holmes dataset, including:\n",
    "-  text summarisation\n",
    "- semantic search\n",
    "- thematic analysis \n",
    "\n",
    "The focus is on understanding the process, implementing modular steps, and critically evaluating outcomes.\n",
    "\n",
    "**Objective** \n",
    "\n",
    "To write a comprehensive report detailing the development, findings, and\n",
    "results of your (NLP) pipeline, focusing on:\n",
    "- How design choices influenced performance.\n",
    "- Challenges encountered at each stage.\n",
    "- Insights gained from the dataset and NLP methods used.\n",
    "- Suggest improvements for each component of the pipeline.\n"
   ]
  },
  {
   "cell_type": "markdown",
   "metadata": {},
   "source": [
    "# About this Data"
   ]
  },
  {
   "cell_type": "markdown",
   "metadata": {},
   "source": [
    "- This collection features all the stories and novels of Sherlock Holmes by Arthur Conan Doyle. \n",
    "- Within the Sherlock folder, you'll find multiple .txt files, each containing a unique story."
   ]
  },
  {
   "cell_type": "markdown",
   "metadata": {},
   "source": [
    "# Importing neccesary libraries"
   ]
  },
  {
   "cell_type": "code",
   "execution_count": null,
   "metadata": {},
   "outputs": [],
   "source": [
    "import os\n",
    "import numpy as np\n",
    "import pandas as pd\n",
    "import matplotlib.pyplot as plt\n",
    "import seaborn as sns"
   ]
  },
  {
   "cell_type": "markdown",
   "metadata": {},
   "source": [
    "# Importing the dataset"
   ]
  },
  {
   "cell_type": "code",
   "execution_count": null,
   "metadata": {},
   "outputs": [],
   "source": []
  }
 ],
 "metadata": {
  "kernelspec": {
   "display_name": "base",
   "language": "python",
   "name": "python3"
  },
  "language_info": {
   "codemirror_mode": {
    "name": "ipython",
    "version": 3
   },
   "file_extension": ".py",
   "mimetype": "text/x-python",
   "name": "python",
   "nbconvert_exporter": "python",
   "pygments_lexer": "ipython3",
   "version": "3.11.7"
  }
 },
 "nbformat": 4,
 "nbformat_minor": 2
}
